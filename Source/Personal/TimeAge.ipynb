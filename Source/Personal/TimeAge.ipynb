{
 "cells": [
  {
   "cell_type": "markdown",
   "metadata": {
    "collapsed": true,
    "pycharm": {
     "name": "#%% md\n"
    }
   },
   "source": [
    "# COVID-19 TimeAge\n"
   ]
  },
  {
   "cell_type": "code",
   "execution_count": 1,
   "outputs": [],
   "source": [
    "import pandas as pd"
   ],
   "metadata": {
    "collapsed": false,
    "pycharm": {
     "name": "#%%\n"
    }
   }
  },
  {
   "cell_type": "code",
   "execution_count": 2,
   "outputs": [],
   "source": [
    "# 데이터 파일 불러오기\n",
    "timeage_df = pd.read_csv(\"../Data/COVID-19/TimeAge.csv\")"
   ],
   "metadata": {
    "collapsed": false,
    "pycharm": {
     "name": "#%%\n"
    }
   }
  },
  {
   "cell_type": "markdown",
   "source": [
    "TimeAge.csv 파일의 구조를 살펴본다."
   ],
   "metadata": {
    "collapsed": false,
    "pycharm": {
     "name": "#%% md\n"
    }
   }
  },
  {
   "cell_type": "code",
   "execution_count": 3,
   "outputs": [
    {
     "data": {
      "text/plain": "         time    confirmed     deceased\ncount  1089.0  1089.000000  1089.000000\nmean      0.0  1158.129477    23.419651\nstd       0.0   822.619497    37.387911\nmin       0.0    32.000000     0.000000\n25%       0.0   530.000000     0.000000\n50%       0.0  1052.000000     3.000000\n75%       0.0  1537.000000    35.000000\nmax       0.0  3362.000000   139.000000",
      "text/html": "<div>\n<style scoped>\n    .dataframe tbody tr th:only-of-type {\n        vertical-align: middle;\n    }\n\n    .dataframe tbody tr th {\n        vertical-align: top;\n    }\n\n    .dataframe thead th {\n        text-align: right;\n    }\n</style>\n<table border=\"1\" class=\"dataframe\">\n  <thead>\n    <tr style=\"text-align: right;\">\n      <th></th>\n      <th>time</th>\n      <th>confirmed</th>\n      <th>deceased</th>\n    </tr>\n  </thead>\n  <tbody>\n    <tr>\n      <th>count</th>\n      <td>1089.0</td>\n      <td>1089.000000</td>\n      <td>1089.000000</td>\n    </tr>\n    <tr>\n      <th>mean</th>\n      <td>0.0</td>\n      <td>1158.129477</td>\n      <td>23.419651</td>\n    </tr>\n    <tr>\n      <th>std</th>\n      <td>0.0</td>\n      <td>822.619497</td>\n      <td>37.387911</td>\n    </tr>\n    <tr>\n      <th>min</th>\n      <td>0.0</td>\n      <td>32.000000</td>\n      <td>0.000000</td>\n    </tr>\n    <tr>\n      <th>25%</th>\n      <td>0.0</td>\n      <td>530.000000</td>\n      <td>0.000000</td>\n    </tr>\n    <tr>\n      <th>50%</th>\n      <td>0.0</td>\n      <td>1052.000000</td>\n      <td>3.000000</td>\n    </tr>\n    <tr>\n      <th>75%</th>\n      <td>0.0</td>\n      <td>1537.000000</td>\n      <td>35.000000</td>\n    </tr>\n    <tr>\n      <th>max</th>\n      <td>0.0</td>\n      <td>3362.000000</td>\n      <td>139.000000</td>\n    </tr>\n  </tbody>\n</table>\n</div>"
     },
     "execution_count": 3,
     "metadata": {},
     "output_type": "execute_result"
    }
   ],
   "source": [
    "timeage_df.describe()"
   ],
   "metadata": {
    "collapsed": false,
    "pycharm": {
     "name": "#%%\n"
    }
   }
  },
  {
   "cell_type": "code",
   "execution_count": 4,
   "outputs": [
    {
     "name": "stdout",
     "output_type": "stream",
     "text": [
      "<class 'pandas.core.frame.DataFrame'>\n",
      "RangeIndex: 1089 entries, 0 to 1088\n",
      "Data columns (total 5 columns):\n",
      " #   Column     Non-Null Count  Dtype \n",
      "---  ------     --------------  ----- \n",
      " 0   date       1089 non-null   object\n",
      " 1   time       1089 non-null   int64 \n",
      " 2   age        1089 non-null   object\n",
      " 3   confirmed  1089 non-null   int64 \n",
      " 4   deceased   1089 non-null   int64 \n",
      "dtypes: int64(3), object(2)\n",
      "memory usage: 42.7+ KB\n"
     ]
    }
   ],
   "source": [
    "timeage_df.info()"
   ],
   "metadata": {
    "collapsed": false,
    "pycharm": {
     "name": "#%%\n"
    }
   }
  },
  {
   "cell_type": "markdown",
   "source": [
    "TimeAge.csv 파일의 age 데이터는 **연령대**를 의미한다."
   ],
   "metadata": {
    "collapsed": false,
    "pycharm": {
     "name": "#%% md\n"
    }
   }
  },
  {
   "cell_type": "code",
   "execution_count": 19,
   "outputs": [
    {
     "ename": "ValueError",
     "evalue": "The truth value of a Series is ambiguous. Use a.empty, a.bool(), a.item(), a.any() or a.all().",
     "output_type": "error",
     "traceback": [
      "\u001B[1;31m---------------------------------------------------------------------------\u001B[0m",
      "\u001B[1;31mValueError\u001B[0m                                Traceback (most recent call last)",
      "\u001B[1;32m<ipython-input-19-50de5f7aca16>\u001B[0m in \u001B[0;36m<module>\u001B[1;34m\u001B[0m\n\u001B[0;32m      1\u001B[0m \u001B[1;31m# 연령대별 데이터 분리\u001B[0m\u001B[1;33m\u001B[0m\u001B[1;33m\u001B[0m\u001B[1;33m\u001B[0m\u001B[0m\n\u001B[1;32m----> 2\u001B[1;33m \u001B[0mtimeage_0s_df\u001B[0m \u001B[1;33m=\u001B[0m \u001B[0mtimeage_df\u001B[0m\u001B[1;33m[\u001B[0m\u001B[0mtimeage_df\u001B[0m\u001B[1;33m[\u001B[0m\u001B[1;34m\"age\"\u001B[0m\u001B[1;33m]\u001B[0m \u001B[1;33m==\u001B[0m \u001B[1;34m\"0s\"\u001B[0m   \u001B[1;32mand\u001B[0m \u001B[0mtimeage_df\u001B[0m\u001B[1;33m.\u001B[0m\u001B[0mindex\u001B[0m \u001B[1;33m%\u001B[0m \u001B[1;36m20\u001B[0m \u001B[1;33m==\u001B[0m \u001B[1;36m0\u001B[0m\u001B[1;33m]\u001B[0m\u001B[1;33m\u001B[0m\u001B[1;33m\u001B[0m\u001B[0m\n\u001B[0m\u001B[0;32m      3\u001B[0m \u001B[0mtimeage_10s_df\u001B[0m \u001B[1;33m=\u001B[0m \u001B[0mtimeage_df\u001B[0m\u001B[1;33m[\u001B[0m\u001B[0mtimeage_df\u001B[0m\u001B[1;33m[\u001B[0m\u001B[1;34m\"age\"\u001B[0m\u001B[1;33m]\u001B[0m \u001B[1;33m==\u001B[0m \u001B[1;34m\"10s\"\u001B[0m \u001B[1;32mand\u001B[0m \u001B[0mtimeage_df\u001B[0m\u001B[1;33m.\u001B[0m\u001B[0mindex\u001B[0m \u001B[1;33m%\u001B[0m \u001B[1;36m20\u001B[0m \u001B[1;33m==\u001B[0m \u001B[1;36m0\u001B[0m\u001B[1;33m]\u001B[0m\u001B[1;33m\u001B[0m\u001B[1;33m\u001B[0m\u001B[0m\n\u001B[0;32m      4\u001B[0m \u001B[0mtimeage_20s_df\u001B[0m \u001B[1;33m=\u001B[0m \u001B[0mtimeage_df\u001B[0m\u001B[1;33m[\u001B[0m\u001B[0mtimeage_df\u001B[0m\u001B[1;33m[\u001B[0m\u001B[1;34m\"age\"\u001B[0m\u001B[1;33m]\u001B[0m \u001B[1;33m==\u001B[0m \u001B[1;34m\"20s\"\u001B[0m \u001B[1;32mand\u001B[0m \u001B[0mtimeage_df\u001B[0m\u001B[1;33m.\u001B[0m\u001B[0mindex\u001B[0m \u001B[1;33m%\u001B[0m \u001B[1;36m20\u001B[0m \u001B[1;33m==\u001B[0m \u001B[1;36m0\u001B[0m\u001B[1;33m]\u001B[0m\u001B[1;33m\u001B[0m\u001B[1;33m\u001B[0m\u001B[0m\n\u001B[0;32m      5\u001B[0m \u001B[0mtimeage_30s_df\u001B[0m \u001B[1;33m=\u001B[0m \u001B[0mtimeage_df\u001B[0m\u001B[1;33m[\u001B[0m\u001B[0mtimeage_df\u001B[0m\u001B[1;33m[\u001B[0m\u001B[1;34m\"age\"\u001B[0m\u001B[1;33m]\u001B[0m \u001B[1;33m==\u001B[0m \u001B[1;34m\"30s\"\u001B[0m \u001B[1;32mand\u001B[0m \u001B[0mtimeage_df\u001B[0m\u001B[1;33m.\u001B[0m\u001B[0mindex\u001B[0m \u001B[1;33m%\u001B[0m \u001B[1;36m20\u001B[0m \u001B[1;33m==\u001B[0m \u001B[1;36m0\u001B[0m\u001B[1;33m]\u001B[0m\u001B[1;33m\u001B[0m\u001B[1;33m\u001B[0m\u001B[0m\n",
      "\u001B[1;32m~\\anaconda3\\lib\\site-packages\\pandas\\core\\generic.py\u001B[0m in \u001B[0;36m__nonzero__\u001B[1;34m(self)\u001B[0m\n\u001B[0;32m   1477\u001B[0m     \u001B[1;32mdef\u001B[0m \u001B[0m__nonzero__\u001B[0m\u001B[1;33m(\u001B[0m\u001B[0mself\u001B[0m\u001B[1;33m)\u001B[0m\u001B[1;33m:\u001B[0m\u001B[1;33m\u001B[0m\u001B[1;33m\u001B[0m\u001B[0m\n\u001B[0;32m   1478\u001B[0m         raise ValueError(\n\u001B[1;32m-> 1479\u001B[1;33m             \u001B[1;34mf\"The truth value of a {type(self).__name__} is ambiguous. \"\u001B[0m\u001B[1;33m\u001B[0m\u001B[1;33m\u001B[0m\u001B[0m\n\u001B[0m\u001B[0;32m   1480\u001B[0m             \u001B[1;34m\"Use a.empty, a.bool(), a.item(), a.any() or a.all().\"\u001B[0m\u001B[1;33m\u001B[0m\u001B[1;33m\u001B[0m\u001B[0m\n\u001B[0;32m   1481\u001B[0m         )\n",
      "\u001B[1;31mValueError\u001B[0m: The truth value of a Series is ambiguous. Use a.empty, a.bool(), a.item(), a.any() or a.all()."
     ]
    }
   ],
   "source": [
    "# 연령대별 데이터 분리\n",
    "timeage_0s_df = timeage_df[timeage_df[\"age\"] == \"0s\"]\n",
    "timeage_10s_df = timeage_df[timeage_df[\"age\"] == \"10s\"]\n",
    "timeage_20s_df = timeage_df[timeage_df[\"age\"] == \"20s\"]\n",
    "timeage_30s_df = timeage_df[timeage_df[\"age\"] == \"30s\"]\n",
    "timeage_40s_df = timeage_df[timeage_df[\"age\"] == \"40s\"]\n",
    "timeage_50s_df = timeage_df[timeage_df[\"age\"] == \"50s\"]\n",
    "timeage_60s_df = timeage_df[timeage_df[\"age\"] == \"60s\"]\n",
    "timeage_70s_df = timeage_df[timeage_df[\"age\"] == \"70s\"]\n",
    "timeage_80s_df = timeage_df[timeage_df[\"age\"] == \"80s\"]\n",
    "\n",
    "timeage_20s_df.head()"
   ],
   "metadata": {
    "collapsed": false,
    "pycharm": {
     "name": "#%%\n"
    }
   }
  },
  {
   "cell_type": "code",
   "execution_count": 26,
   "outputs": [
    {
     "data": {
      "text/plain": "<Figure size 432x288 with 1 Axes>",
      "image/png": "[encoded data removed]"
     },
     "metadata": {
      "needs_background": "light"
     },
     "output_type": "display_data"
    }
   ],
   "source": [
    "# 20대 날짜별 확진자 결과 추이 확인\n",
    "\n",
    "import matplotlib.pyplot as plt\n",
    "\n",
    "bins = timeage_20s_df[\"date\"].count()\n",
    "plt.hist(timeage_20s_df.index, bins=bins, weights=timeage_20s_df[\"confirmed\"], label=\"20s\", color=\"red\")\n",
    "plt.hist(timeage_40s_df.index, bins=bins, weights=timeage_40s_df[\"confirmed\"], label=\"40s\", color=\"blue\")\n",
    "plt.hist(timeage_30s_df.index, bins=bins, weights=timeage_30s_df[\"confirmed\"], label=\"30s\", color=\"green\")\n",
    "plt.legend(loc=\"upper left\")\n",
    "plt.xlabel(\"Date (Since 2020-01-20)\")\n",
    "plt.ylabel(\"COVID-19 Confirmed\")\n",
    "plt.show()"
   ],
   "metadata": {
    "collapsed": false,
    "pycharm": {
     "name": "#%%\n"
    }
   }
  },
  {
   "cell_type": "code",
   "execution_count": 30,
   "outputs": [],
   "source": [
    "# 증가율 그래프 그리기\n",
    "\n",
    "def confirmed_increment(data):\n",
    "    data_list = data[\"confirmed\"].tolist()\n",
    "    iter_max = len(data_list) - 1\n",
    "\n",
    "    increase_confirmed = list()\n",
    "\n",
    "    for idx in range(iter_max):\n",
    "        previous_confirmed = data_list[idx]\n",
    "        current_confirmed = data_list[idx + 1]\n",
    "        increase_confirmed.append(current_confirmed - previous_confirmed)\n",
    "\n",
    "    # List to DataFrame\n",
    "    increase_df = pd.DataFrame(\n",
    "        {\n",
    "            \"increment\": increase_confirmed\n",
    "        }\n",
    "    )\n",
    "\n",
    "    return increase_df\n",
    "\n",
    "time_20s_increment_df = confirmed_increment(timeage_20s_df)\n",
    "time_30s_increment_df = confirmed_increment(timeage_30s_df)\n",
    "time_40s_increment_df = confirmed_increment(timeage_40s_df)"
   ],
   "metadata": {
    "collapsed": false,
    "pycharm": {
     "name": "#%%\n"
    }
   }
  },
  {
   "cell_type": "code",
   "execution_count": 32,
   "outputs": [
    {
     "data": {
      "text/plain": "<Figure size 432x288 with 1 Axes>",
      "image/png": "[encoded data removed]"
     },
     "metadata": {
      "needs_background": "light"
     },
     "output_type": "display_data"
    }
   ],
   "source": [
    "bins = time_20s_increment_df[\"increment\"].count()\n",
    "plt.hist(time_20s_increment_df.index, bins=bins, weights=time_20s_increment_df[\"increment\"], label=\"20s\", color=\"red\")\n",
    "plt.hist(time_30s_increment_df.index, bins=bins, weights=time_30s_increment_df[\"increment\"], label=\"40s\", color=\"blue\")\n",
    "plt.hist(time_40s_increment_df.index, bins=bins, weights=time_40s_increment_df[\"increment\"], label=\"30s\", color=\"green\")\n",
    "plt.legend(loc=\"upper right\")\n",
    "plt.xlabel(\"Date (Since 2020-01-20)\")\n",
    "plt.ylabel(\"COVID-19 Confirmed\")\n",
    "plt.show()"
   ],
   "metadata": {
    "collapsed": false,
    "pycharm": {
     "name": "#%%\n"
    }
   }
  },
  {
   "cell_type": "code",
   "execution_count": null,
   "outputs": [],
   "source": [],
   "metadata": {
    "collapsed": false,
    "pycharm": {
     "name": "#%%\n"
    }
   }
  }
 ],
 "metadata": {
  "kernelspec": {
   "display_name": "Python 3",
   "language": "python",
   "name": "python3"
  },
  "language_info": {
   "codemirror_mode": {
    "name": "ipython",
    "version": 2
   },
   "file_extension": ".py",
   "mimetype": "text/x-python",
   "name": "python",
   "nbconvert_exporter": "python",
   "pygments_lexer": "ipython2",
   "version": "2.7.6"
  }
 },
 "nbformat": 4,
 "nbformat_minor": 0
}