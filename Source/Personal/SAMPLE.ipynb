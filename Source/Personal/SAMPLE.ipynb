{
 "cells": [
  {
   "cell_type": "code",
   "execution_count": 1,
   "metadata": {
    "collapsed": true
   },
   "outputs": [],
   "source": [
    "# Library import\n",
    "import pandas as pd\n",
    "import matplotlib.pyplot as plt"
   ]
  },
  {
   "cell_type": "code",
   "execution_count": 2,
   "metadata": {
    "pycharm": {
     "name": "#%%\n"
    }
   },
   "outputs": [],
   "source": [
    "# COVID-19 Time 데이터셋 불러오기\n",
    "time_df = pd.read_csv(\"../Data/COVID-19/Time.csv\")"
   ]
  },
  {
   "cell_type": "code",
   "execution_count": 3,
   "metadata": {
    "pycharm": {
     "name": "#%%\n"
    }
   },
   "outputs": [
    {
     "data": {
      "text/html": [
       "<div>\n",
       "<style scoped>\n",
       "    .dataframe tbody tr th:only-of-type {\n",
       "        vertical-align: middle;\n",
       "    }\n",
       "\n",
       "    .dataframe tbody tr th {\n",
       "        vertical-align: top;\n",
       "    }\n",
       "\n",
       "    .dataframe thead th {\n",
       "        text-align: right;\n",
       "    }\n",
       "</style>\n",
       "<table border=\"1\" class=\"dataframe\">\n",
       "  <thead>\n",
       "    <tr style=\"text-align: right;\">\n",
       "      <th></th>\n",
       "      <th>time</th>\n",
       "      <th>test</th>\n",
       "      <th>negative</th>\n",
       "      <th>confirmed</th>\n",
       "      <th>released</th>\n",
       "      <th>deceased</th>\n",
       "    </tr>\n",
       "  </thead>\n",
       "  <tbody>\n",
       "    <tr>\n",
       "      <th>count</th>\n",
       "      <td>163.000000</td>\n",
       "      <td>1.630000e+02</td>\n",
       "      <td>1.630000e+02</td>\n",
       "      <td>163.000000</td>\n",
       "      <td>163.000000</td>\n",
       "      <td>163.000000</td>\n",
       "    </tr>\n",
       "    <tr>\n",
       "      <th>mean</th>\n",
       "      <td>4.122699</td>\n",
       "      <td>4.977797e+05</td>\n",
       "      <td>4.754839e+05</td>\n",
       "      <td>7834.865031</td>\n",
       "      <td>5604.312883</td>\n",
       "      <td>157.104294</td>\n",
       "    </tr>\n",
       "    <tr>\n",
       "      <th>std</th>\n",
       "      <td>7.019174</td>\n",
       "      <td>3.958830e+05</td>\n",
       "      <td>3.865611e+05</td>\n",
       "      <td>4666.040541</td>\n",
       "      <td>4544.317229</td>\n",
       "      <td>114.010916</td>\n",
       "    </tr>\n",
       "    <tr>\n",
       "      <th>min</th>\n",
       "      <td>0.000000</td>\n",
       "      <td>1.000000e+00</td>\n",
       "      <td>0.000000e+00</td>\n",
       "      <td>1.000000</td>\n",
       "      <td>0.000000</td>\n",
       "      <td>0.000000</td>\n",
       "    </tr>\n",
       "    <tr>\n",
       "      <th>25%</th>\n",
       "      <td>0.000000</td>\n",
       "      <td>9.648800e+04</td>\n",
       "      <td>5.877400e+04</td>\n",
       "      <td>3443.000000</td>\n",
       "      <td>29.000000</td>\n",
       "      <td>17.500000</td>\n",
       "    </tr>\n",
       "    <tr>\n",
       "      <th>50%</th>\n",
       "      <td>0.000000</td>\n",
       "      <td>5.030510e+05</td>\n",
       "      <td>4.773030e+05</td>\n",
       "      <td>10450.000000</td>\n",
       "      <td>7117.000000</td>\n",
       "      <td>208.000000</td>\n",
       "    </tr>\n",
       "    <tr>\n",
       "      <th>75%</th>\n",
       "      <td>16.000000</td>\n",
       "      <td>7.825585e+05</td>\n",
       "      <td>7.542225e+05</td>\n",
       "      <td>11116.000000</td>\n",
       "      <td>10100.500000</td>\n",
       "      <td>263.500000</td>\n",
       "    </tr>\n",
       "    <tr>\n",
       "      <th>max</th>\n",
       "      <td>16.000000</td>\n",
       "      <td>1.273766e+06</td>\n",
       "      <td>1.240157e+06</td>\n",
       "      <td>12800.000000</td>\n",
       "      <td>11537.000000</td>\n",
       "      <td>282.000000</td>\n",
       "    </tr>\n",
       "  </tbody>\n",
       "</table>\n",
       "</div>"
      ],
      "text/plain": [
       "             time          test      negative     confirmed      released  \\\n",
       "count  163.000000  1.630000e+02  1.630000e+02    163.000000    163.000000   \n",
       "mean     4.122699  4.977797e+05  4.754839e+05   7834.865031   5604.312883   \n",
       "std      7.019174  3.958830e+05  3.865611e+05   4666.040541   4544.317229   \n",
       "min      0.000000  1.000000e+00  0.000000e+00      1.000000      0.000000   \n",
       "25%      0.000000  9.648800e+04  5.877400e+04   3443.000000     29.000000   \n",
       "50%      0.000000  5.030510e+05  4.773030e+05  10450.000000   7117.000000   \n",
       "75%     16.000000  7.825585e+05  7.542225e+05  11116.000000  10100.500000   \n",
       "max     16.000000  1.273766e+06  1.240157e+06  12800.000000  11537.000000   \n",
       "\n",
       "         deceased  \n",
       "count  163.000000  \n",
       "mean   157.104294  \n",
       "std    114.010916  \n",
       "min      0.000000  \n",
       "25%     17.500000  \n",
       "50%    208.000000  \n",
       "75%    263.500000  \n",
       "max    282.000000  "
      ]
     },
     "execution_count": 3,
     "metadata": {},
     "output_type": "execute_result"
    }
   ],
   "source": [
    "# COVID-19 Time 데이터셋 구성\n",
    "time_df.describe()"
   ]
  },
  {
   "cell_type": "code",
   "execution_count": 4,
   "metadata": {
    "pycharm": {
     "name": "#%%\n"
    }
   },
   "outputs": [
    {
     "name": "stdout",
     "output_type": "stream",
     "text": [
      "<class 'pandas.core.frame.DataFrame'>\n",
      "RangeIndex: 163 entries, 0 to 162\n",
      "Data columns (total 7 columns):\n",
      " #   Column     Non-Null Count  Dtype \n",
      "---  ------     --------------  ----- \n",
      " 0   date       163 non-null    object\n",
      " 1   time       163 non-null    int64 \n",
      " 2   test       163 non-null    int64 \n",
      " 3   negative   163 non-null    int64 \n",
      " 4   confirmed  163 non-null    int64 \n",
      " 5   released   163 non-null    int64 \n",
      " 6   deceased   163 non-null    int64 \n",
      "dtypes: int64(6), object(1)\n",
      "memory usage: 9.0+ KB\n"
     ]
    }
   ],
   "source": [
    "# COVID-19 Time 데이터셋 데이터 타입 확인\n",
    "time_df.info()"
   ]
  },
  {
   "cell_type": "markdown",
   "metadata": {},
   "source": [
    "Time.csv 데이터 파일은 다음과 같은 내용으로 구성되어 있다.\n",
    "\n",
    "- 데이터셋 크기: 163개 (NULL 또는 NaN 데이터 없음)\n",
    "    - date: 날짜\n",
    "    - time: 파악 안됨\n",
    "    - test: COVID-19 검사 수\n",
    "    - negative: COVID-19 음성 결과 수\n",
    "    - confirmed: COVID-19 양성 결과 수\n",
    "    - release: COVID-19 완치자 수\n",
    "    - deceased: COVID-19 사망자 수\n",
    "\n",
    "\n",
    "TODO 리스트:\n",
    "- 날짜별 COVID-19 검사 수 -> 음성 결과, 양성 결과 확인해보기\n",
    "- COVID-19 양성 결과 수 -> 완치자, 사망자 수 결과 확인해보기"
   ]
  },
  {
   "cell_type": "code",
   "execution_count": 5,
   "metadata": {
    "pycharm": {
     "name": "#%%\n"
    }
   },
   "outputs": [
    {
     "data": {
      "image/png": "[encoded data removed]",
      "text/plain": [
       "<Figure size 432x288 with 1 Axes>"
      ]
     },
     "metadata": {
      "needs_background": "light"
     },
     "output_type": "display_data"
    }
   ],
   "source": [
    "# COVID-19 다변수(검사 수, 음성 수, 양성 수) 히스토그램 출력\n",
    "\n",
    "plt.style.use(\"seaborn-deep\")\n",
    "bins = time_df[\"test\"].count()\n",
    "plt.hist(time_df.index, bins=bins, weights=time_df[\"test\"], alpha=0.5, label=\"COVID-19 Test Count\")\n",
    "plt.hist(time_df.index, bins=bins, weights=time_df[\"negative\"], alpha=0.5, label=\"COVID-19 Negative Count\")\n",
    "plt.hist(time_df.index, bins=bins, weights=time_df[\"confirmed\"], alpha=0.5, label=\"COVID-19 Confirmed Count\")\n",
    "plt.legend(loc=\"upper left\")\n",
    "plt.xlabel(\"Date (Since 2020-01-20)\")\n",
    "plt.ylabel(\"COVID-19 Count\")\n",
    "plt.savefig(\"sample\")\n",
    "plt.show()"
   ]
  },
  {
   "cell_type": "code",
   "execution_count": 6,
   "metadata": {
    "pycharm": {
     "name": "#%%\n"
    }
   },
   "outputs": [
    {
     "data": {
      "image/png": "[encoded data removed]",
      "text/plain": [
       "<Figure size 432x288 with 1 Axes>"
      ]
     },
     "metadata": {
      "needs_background": "light"
     },
     "output_type": "display_data"
    }
   ],
   "source": [
    "# COVID-19 양성 결과\n",
    "\n",
    "plt.hist(time_df.index, bins=time_df[\"confirmed\"].count(), weights=time_df[\"confirmed\"], color=\"r\", edgecolor=\"black\")\n",
    "plt.title(\"COVID-19 Confirmed NUMBER\")\n",
    "plt.xlabel(\"Date (Since 2020-01-20)\")\n",
    "plt.ylabel(\"COVID-19 Confirmed\")\n",
    "plt.grid()\n",
    "plt.show()"
   ]
  },
  {
   "cell_type": "code",
   "execution_count": 7,
   "metadata": {
    "pycharm": {
     "name": "#%%\n"
    }
   },
   "outputs": [],
   "source": [
    "# COVID-19 이동평균과 같이 그려보기\n",
    "# 이동평균(Moving Average) 계산\n",
    "confirmed_mv_df = pd.DataFrame(\n",
    "    {\n",
    "        'confirmed': time_df[\"confirmed\"],\n",
    "        'confirmed_5d': time_df[\"confirmed\"].rolling(window=5).mean(),\n",
    "        'confirmed_10d': time_df[\"confirmed\"].rolling(window=10).mean()\n",
    "    }\n",
    ")\n",
    "\n",
    "# 이동평균 결측치(NaN) 제거\n",
    "confirmed_mv_df.dropna(axis=0, inplace=True)"
   ]
  },
  {
   "cell_type": "code",
   "execution_count": 8,
   "metadata": {
    "pycharm": {
     "name": "#%%\n"
    }
   },
   "outputs": [
    {
     "data": {
      "image/png": "[encoded data removed]",
      "text/plain": [
       "<Figure size 432x288 with 1 Axes>"
      ]
     },
     "metadata": {
      "needs_background": "light"
     },
     "output_type": "display_data"
    }
   ],
   "source": [
    "# 그래프 출력\n",
    "num_bins = confirmed_mv_df[\"confirmed\"].count()\n",
    "plt.hist(confirmed_mv_df.index, bins=num_bins, weights=confirmed_mv_df[\"confirmed\"], color=\"green\", edgecolor=\"black\", alpha=0.5, label=\"Confirmed\")\n",
    "plt.plot(confirmed_mv_df.index, confirmed_mv_df[\"confirmed_5d\"], color=\"blue\", linewidth=2, label=\"Confirmed 5d MA\")\n",
    "plt.plot(confirmed_mv_df.index, confirmed_mv_df[\"confirmed_10d\"], color=\"red\", linewidth=2, label=\"Confirmed 10d MA\")\n",
    "plt.legend(loc=\"upper left\")\n",
    "plt.xlabel(\"Date (Since 2020-01-20)\")\n",
    "plt.ylabel(\"COVID-19 Confirmed\")\n",
    "plt.show()"
   ]
  },
  {
   "cell_type": "code",
   "execution_count": 9,
   "metadata": {
    "pycharm": {
     "name": "#%%\n"
    }
   },
   "outputs": [],
   "source": [
    "# 전일 대비 확진자 증가량 확인\n",
    "confirmed_list = time_df[\"confirmed\"].tolist()\n",
    "iter_max = len(confirmed_list) - 1\n",
    "\n",
    "increase_confirmed = list()\n",
    "\n",
    "for idx in range(iter_max):\n",
    "    previous_confirmed = confirmed_list[idx]\n",
    "    current_confirmed = confirmed_list[idx + 1]\n",
    "    increase_confirmed.append(current_confirmed - previous_confirmed)"
   ]
  },
  {
   "cell_type": "code",
   "execution_count": 10,
   "metadata": {
    "pycharm": {
     "name": "#%%\n"
    }
   },
   "outputs": [],
   "source": [
    "# List to DataFrame\n",
    "increase_df = pd.DataFrame(\n",
    "    {\n",
    "        \"increase\": increase_confirmed\n",
    "    }\n",
    ")"
   ]
  },
  {
   "cell_type": "code",
   "execution_count": 11,
   "metadata": {
    "pycharm": {
     "name": "#%%\n"
    }
   },
   "outputs": [
    {
     "data": {
      "image/png": "[encoded data removed]",
      "text/plain": [
       "<Figure size 432x288 with 1 Axes>"
      ]
     },
     "metadata": {
      "needs_background": "light"
     },
     "output_type": "display_data"
    }
   ],
   "source": [
    "# 그래프 그리기\n",
    "plt.hist(increase_df.index, bins=increase_df[\"increase\"].count(), weights=increase_df[\"increase\"], color=\"red\", edgecolor=\"black\", alpha=0.5, label=\"Confirmed Increment\")\n",
    "plt.legend(loc=\"upper left\")\n",
    "plt.xlabel(\"Date (Since 2020-01-20)\")\n",
    "plt.ylabel(\"COVID-19 Confirmed Increment\")\n",
    "plt.legend(loc=\"upper right\")\n",
    "plt.show()\n"
   ]
  }
 ],
 "metadata": {
  "kernelspec": {
   "display_name": "Python 3",
   "language": "python",
   "name": "python3"
  },
  "language_info": {
   "codemirror_mode": {
    "name": "ipython",
    "version": 3
   },
   "file_extension": ".py",
   "mimetype": "text/x-python",
   "name": "python",
   "nbconvert_exporter": "python",
   "pygments_lexer": "ipython3",
   "version": "3.7.7"
  }
 },
 "nbformat": 4,
 "nbformat_minor": 1
}